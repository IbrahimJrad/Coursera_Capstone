{
  "nbformat": 4,
  "nbformat_minor": 0,
  "metadata": {
    "colab": {
      "name": "Segmenting_and_Clustering_Neighborhoods_in_Toronto_part_1.ipynb",
      "provenance": [],
      "collapsed_sections": []
    },
    "kernelspec": {
      "name": "python3",
      "display_name": "Python 3"
    }
  },
  "cells": [
    {
      "cell_type": "markdown",
      "metadata": {
        "id": "_hlb88YSokCp"
      },
      "source": [
        "# **Segmenting and Clustering Neighborhoods in Toronto**"
      ]
    },
    {
      "cell_type": "markdown",
      "metadata": {
        "id": "rf6pcRtTpFN4"
      },
      "source": [
        "## Let's first fetch the data that we need for this project from the Wikipedia page useing BeautifulSoup package"
      ]
    },
    {
      "cell_type": "markdown",
      "metadata": {
        "id": "iaiThGOLp9bR"
      },
      "source": [
        "### Firstly, we need to import the library we will be using to connect to the Wikipedia page and fetch the contents of that page:"
      ]
    },
    {
      "cell_type": "code",
      "metadata": {
        "id": "WhFM30j2sJGO"
      },
      "source": [
        "# import the library we use to open URLs\n",
        "import urllib.request\n",
        "\n",
        "# specify which URL/web page we are going to be scraping\n",
        "url = \"https://en.wikipedia.org/wiki/List_of_postal_codes_of_Canada:_M\"\n",
        "\n",
        "# open the url using urllib.request and put the HTML into the page variable\n",
        "page = urllib.request.urlopen(url)\n",
        "\n",
        "# import the BeautifulSoup library so we can parse HTML and XML documents\n",
        "from bs4 import BeautifulSoup\n",
        "\n",
        "# parse the HTML from our URL into the BeautifulSoup parse tree format\n",
        "soup = BeautifulSoup(page, \"lxml\")"
      ],
      "execution_count": 1,
      "outputs": []
    },
    {
      "cell_type": "markdown",
      "metadata": {
        "id": "KnFbw7NDs5iE"
      },
      "source": [
        "### Let's use Beautiful Soup’s prettify function and check it out right there in our notebook"
      ]
    },
    {
      "cell_type": "code",
      "metadata": {
        "id": "dOY6rToXswDE"
      },
      "source": [
        "#print(soup.prettify())"
      ],
      "execution_count": 2,
      "outputs": []
    },
    {
      "cell_type": "markdown",
      "metadata": {
        "id": "UuJupibLtvC9"
      },
      "source": [
        "### Let's find the table that we are looking for"
      ]
    },
    {
      "cell_type": "code",
      "metadata": {
        "id": "fykPtCs8tRA-"
      },
      "source": [
        "# use the 'find_all' function to bring back all instances of the 'table' tag in the HTML and store in 'all_tables' variable\n",
        "all_tables=soup.find_all(\"table\")\n",
        "#all_tables"
      ],
      "execution_count": 3,
      "outputs": []
    },
    {
      "cell_type": "markdown",
      "metadata": {
        "id": "PF0p1MugtuNu"
      },
      "source": [
        "### Looking through the output of ”all_tables” we can again see that the class id of our chosen table is ”wikitable sortable”. We can use this to get BS to only bring back the table data for this particular table and keep that in a variable called ”right_table“:"
      ]
    },
    {
      "cell_type": "code",
      "metadata": {
        "id": "lfONIjNLu9xc"
      },
      "source": [
        "right_table=soup.find('table', class_='wikitable sortable')\n",
        "#right_table"
      ],
      "execution_count": 4,
      "outputs": []
    },
    {
      "cell_type": "markdown",
      "metadata": {
        "id": "J580E1FQzRJr"
      },
      "source": [
        "### Now we have to start looping through the rows to get the data for every row in the table."
      ]
    },
    {
      "cell_type": "code",
      "metadata": {
        "id": "oQN7LhDdvH3I"
      },
      "source": [
        "A=[]\n",
        "B=[]\n",
        "C=[]\n",
        "\n",
        "for row in right_table.findAll('tr'):\n",
        "    cells=row.findAll('td')\n",
        "    if len(cells)==3:\n",
        "        A.append(cells[0].find(text=True))\n",
        "        B.append(cells[1].find(text=True))\n",
        "        C.append(cells[2].find(text=True))"
      ],
      "execution_count": 5,
      "outputs": []
    },
    {
      "cell_type": "markdown",
      "metadata": {
        "id": "nXfyMIIgz27_"
      },
      "source": [
        "### We’ll import pandas and create a dataframe with it, assigning each of the lists A-C into a column with the name of our source table columns"
      ]
    },
    {
      "cell_type": "code",
      "metadata": {
        "id": "84wav-1uvoEh"
      },
      "source": [
        "import pandas as pd\n",
        "\n",
        "df=pd.DataFrame(A,columns=['Postal Code'])\n",
        "df['Borough']=B\n",
        "df['Neibourhood']=C"
      ],
      "execution_count": 6,
      "outputs": []
    },
    {
      "cell_type": "markdown",
      "metadata": {
        "id": "nenO-pBL0TcN"
      },
      "source": [
        "### Let's take a look to our dataframe"
      ]
    },
    {
      "cell_type": "code",
      "metadata": {
        "colab": {
          "base_uri": "https://localhost:8080/",
          "height": 204
        },
        "id": "8ww-9Hml0Sid",
        "outputId": "e5bfd156-f28f-4709-a482-a6017bcdc5c1"
      },
      "source": [
        "df.head()"
      ],
      "execution_count": 7,
      "outputs": [
        {
          "output_type": "execute_result",
          "data": {
            "text/html": [
              "<div>\n",
              "<style scoped>\n",
              "    .dataframe tbody tr th:only-of-type {\n",
              "        vertical-align: middle;\n",
              "    }\n",
              "\n",
              "    .dataframe tbody tr th {\n",
              "        vertical-align: top;\n",
              "    }\n",
              "\n",
              "    .dataframe thead th {\n",
              "        text-align: right;\n",
              "    }\n",
              "</style>\n",
              "<table border=\"1\" class=\"dataframe\">\n",
              "  <thead>\n",
              "    <tr style=\"text-align: right;\">\n",
              "      <th></th>\n",
              "      <th>Postal Code</th>\n",
              "      <th>Borough</th>\n",
              "      <th>Neibourhood</th>\n",
              "    </tr>\n",
              "  </thead>\n",
              "  <tbody>\n",
              "    <tr>\n",
              "      <th>0</th>\n",
              "      <td>M1A\\n</td>\n",
              "      <td>Not assigned\\n</td>\n",
              "      <td>Not assigned\\n</td>\n",
              "    </tr>\n",
              "    <tr>\n",
              "      <th>1</th>\n",
              "      <td>M2A\\n</td>\n",
              "      <td>Not assigned\\n</td>\n",
              "      <td>Not assigned\\n</td>\n",
              "    </tr>\n",
              "    <tr>\n",
              "      <th>2</th>\n",
              "      <td>M3A\\n</td>\n",
              "      <td>North York\\n</td>\n",
              "      <td>Parkwoods\\n</td>\n",
              "    </tr>\n",
              "    <tr>\n",
              "      <th>3</th>\n",
              "      <td>M4A\\n</td>\n",
              "      <td>North York\\n</td>\n",
              "      <td>Victoria Village\\n</td>\n",
              "    </tr>\n",
              "    <tr>\n",
              "      <th>4</th>\n",
              "      <td>M5A\\n</td>\n",
              "      <td>Downtown Toronto\\n</td>\n",
              "      <td>Regent Park, Harbourfront\\n</td>\n",
              "    </tr>\n",
              "  </tbody>\n",
              "</table>\n",
              "</div>"
            ],
            "text/plain": [
              "  Postal Code             Borough                  Neibourhood\n",
              "0       M1A\\n      Not assigned\\n               Not assigned\\n\n",
              "1       M2A\\n      Not assigned\\n               Not assigned\\n\n",
              "2       M3A\\n        North York\\n                  Parkwoods\\n\n",
              "3       M4A\\n        North York\\n           Victoria Village\\n\n",
              "4       M5A\\n  Downtown Toronto\\n  Regent Park, Harbourfront\\n"
            ]
          },
          "metadata": {
            "tags": []
          },
          "execution_count": 7
        }
      ]
    },
    {
      "cell_type": "markdown",
      "metadata": {
        "id": "3nBTAuWH3Q_3"
      },
      "source": [
        "### Cleaning the data inside our dataframe"
      ]
    },
    {
      "cell_type": "code",
      "metadata": {
        "id": "pG0iDwTw0ZtN"
      },
      "source": [
        "df['Postal Code'] = df['Postal Code'].str.replace('\\\\n','')\n",
        "df['Borough'] = df['Borough'].str.replace('\\\\n','')\n",
        "df['Neibourhood'] = df['Neibourhood'].str.replace('\\\\n','')"
      ],
      "execution_count": 8,
      "outputs": []
    },
    {
      "cell_type": "code",
      "metadata": {
        "colab": {
          "base_uri": "https://localhost:8080/",
          "height": 204
        },
        "id": "GF_UqKCL2hpU",
        "outputId": "538d45ca-52a9-4dc8-ba5f-7a59c47d3773"
      },
      "source": [
        "df.head()"
      ],
      "execution_count": 9,
      "outputs": [
        {
          "output_type": "execute_result",
          "data": {
            "text/html": [
              "<div>\n",
              "<style scoped>\n",
              "    .dataframe tbody tr th:only-of-type {\n",
              "        vertical-align: middle;\n",
              "    }\n",
              "\n",
              "    .dataframe tbody tr th {\n",
              "        vertical-align: top;\n",
              "    }\n",
              "\n",
              "    .dataframe thead th {\n",
              "        text-align: right;\n",
              "    }\n",
              "</style>\n",
              "<table border=\"1\" class=\"dataframe\">\n",
              "  <thead>\n",
              "    <tr style=\"text-align: right;\">\n",
              "      <th></th>\n",
              "      <th>Postal Code</th>\n",
              "      <th>Borough</th>\n",
              "      <th>Neibourhood</th>\n",
              "    </tr>\n",
              "  </thead>\n",
              "  <tbody>\n",
              "    <tr>\n",
              "      <th>0</th>\n",
              "      <td>M1A</td>\n",
              "      <td>Not assigned</td>\n",
              "      <td>Not assigned</td>\n",
              "    </tr>\n",
              "    <tr>\n",
              "      <th>1</th>\n",
              "      <td>M2A</td>\n",
              "      <td>Not assigned</td>\n",
              "      <td>Not assigned</td>\n",
              "    </tr>\n",
              "    <tr>\n",
              "      <th>2</th>\n",
              "      <td>M3A</td>\n",
              "      <td>North York</td>\n",
              "      <td>Parkwoods</td>\n",
              "    </tr>\n",
              "    <tr>\n",
              "      <th>3</th>\n",
              "      <td>M4A</td>\n",
              "      <td>North York</td>\n",
              "      <td>Victoria Village</td>\n",
              "    </tr>\n",
              "    <tr>\n",
              "      <th>4</th>\n",
              "      <td>M5A</td>\n",
              "      <td>Downtown Toronto</td>\n",
              "      <td>Regent Park, Harbourfront</td>\n",
              "    </tr>\n",
              "  </tbody>\n",
              "</table>\n",
              "</div>"
            ],
            "text/plain": [
              "  Postal Code           Borough                Neibourhood\n",
              "0         M1A      Not assigned               Not assigned\n",
              "1         M2A      Not assigned               Not assigned\n",
              "2         M3A        North York                  Parkwoods\n",
              "3         M4A        North York           Victoria Village\n",
              "4         M5A  Downtown Toronto  Regent Park, Harbourfront"
            ]
          },
          "metadata": {
            "tags": []
          },
          "execution_count": 9
        }
      ]
    },
    {
      "cell_type": "markdown",
      "metadata": {
        "id": "rFeN-3kl8e2y"
      },
      "source": [
        "### Ignore cells with a borough that is Not assigned."
      ]
    },
    {
      "cell_type": "code",
      "metadata": {
        "id": "HeNQBeic2jnS"
      },
      "source": [
        "df = df[df.Borough != 'Not assigned']"
      ],
      "execution_count": 10,
      "outputs": []
    },
    {
      "cell_type": "code",
      "metadata": {
        "colab": {
          "base_uri": "https://localhost:8080/",
          "height": 204
        },
        "id": "BkVB_l6f41hE",
        "outputId": "d0e383e7-1cd3-488e-f27b-b668b742de00"
      },
      "source": [
        "df.reset_index(inplace=True, drop=True)\n",
        "df.head(5)"
      ],
      "execution_count": 11,
      "outputs": [
        {
          "output_type": "execute_result",
          "data": {
            "text/html": [
              "<div>\n",
              "<style scoped>\n",
              "    .dataframe tbody tr th:only-of-type {\n",
              "        vertical-align: middle;\n",
              "    }\n",
              "\n",
              "    .dataframe tbody tr th {\n",
              "        vertical-align: top;\n",
              "    }\n",
              "\n",
              "    .dataframe thead th {\n",
              "        text-align: right;\n",
              "    }\n",
              "</style>\n",
              "<table border=\"1\" class=\"dataframe\">\n",
              "  <thead>\n",
              "    <tr style=\"text-align: right;\">\n",
              "      <th></th>\n",
              "      <th>Postal Code</th>\n",
              "      <th>Borough</th>\n",
              "      <th>Neibourhood</th>\n",
              "    </tr>\n",
              "  </thead>\n",
              "  <tbody>\n",
              "    <tr>\n",
              "      <th>0</th>\n",
              "      <td>M3A</td>\n",
              "      <td>North York</td>\n",
              "      <td>Parkwoods</td>\n",
              "    </tr>\n",
              "    <tr>\n",
              "      <th>1</th>\n",
              "      <td>M4A</td>\n",
              "      <td>North York</td>\n",
              "      <td>Victoria Village</td>\n",
              "    </tr>\n",
              "    <tr>\n",
              "      <th>2</th>\n",
              "      <td>M5A</td>\n",
              "      <td>Downtown Toronto</td>\n",
              "      <td>Regent Park, Harbourfront</td>\n",
              "    </tr>\n",
              "    <tr>\n",
              "      <th>3</th>\n",
              "      <td>M6A</td>\n",
              "      <td>North York</td>\n",
              "      <td>Lawrence Manor, Lawrence Heights</td>\n",
              "    </tr>\n",
              "    <tr>\n",
              "      <th>4</th>\n",
              "      <td>M7A</td>\n",
              "      <td>Downtown Toronto</td>\n",
              "      <td>Queen's Park, Ontario Provincial Government</td>\n",
              "    </tr>\n",
              "  </tbody>\n",
              "</table>\n",
              "</div>"
            ],
            "text/plain": [
              "  Postal Code           Borough                                  Neibourhood\n",
              "0         M3A        North York                                    Parkwoods\n",
              "1         M4A        North York                             Victoria Village\n",
              "2         M5A  Downtown Toronto                    Regent Park, Harbourfront\n",
              "3         M6A        North York             Lawrence Manor, Lawrence Heights\n",
              "4         M7A  Downtown Toronto  Queen's Park, Ontario Provincial Government"
            ]
          },
          "metadata": {
            "tags": []
          },
          "execution_count": 11
        }
      ]
    },
    {
      "cell_type": "markdown",
      "metadata": {
        "id": "nzLbbNyy8nBS"
      },
      "source": [
        "### Checking if we have any Neibourhood that Not assigned"
      ]
    },
    {
      "cell_type": "code",
      "metadata": {
        "colab": {
          "base_uri": "https://localhost:8080/",
          "height": 49
        },
        "id": "j0mY4cKz43Lw",
        "outputId": "e015f747-6e70-42d6-f16a-1eed004595cf"
      },
      "source": [
        "df[df['Neibourhood']=='Not assigned']"
      ],
      "execution_count": 12,
      "outputs": [
        {
          "output_type": "execute_result",
          "data": {
            "text/html": [
              "<div>\n",
              "<style scoped>\n",
              "    .dataframe tbody tr th:only-of-type {\n",
              "        vertical-align: middle;\n",
              "    }\n",
              "\n",
              "    .dataframe tbody tr th {\n",
              "        vertical-align: top;\n",
              "    }\n",
              "\n",
              "    .dataframe thead th {\n",
              "        text-align: right;\n",
              "    }\n",
              "</style>\n",
              "<table border=\"1\" class=\"dataframe\">\n",
              "  <thead>\n",
              "    <tr style=\"text-align: right;\">\n",
              "      <th></th>\n",
              "      <th>Postal Code</th>\n",
              "      <th>Borough</th>\n",
              "      <th>Neibourhood</th>\n",
              "    </tr>\n",
              "  </thead>\n",
              "  <tbody>\n",
              "  </tbody>\n",
              "</table>\n",
              "</div>"
            ],
            "text/plain": [
              "Empty DataFrame\n",
              "Columns: [Postal Code, Borough, Neibourhood]\n",
              "Index: []"
            ]
          },
          "metadata": {
            "tags": []
          },
          "execution_count": 12
        }
      ]
    },
    {
      "cell_type": "code",
      "metadata": {
        "colab": {
          "base_uri": "https://localhost:8080/"
        },
        "id": "5gZuKtiE8ZZH",
        "outputId": "b404b1a2-287a-43fa-d782-827de9433202"
      },
      "source": [
        "df.shape"
      ],
      "execution_count": 13,
      "outputs": [
        {
          "output_type": "execute_result",
          "data": {
            "text/plain": [
              "(103, 3)"
            ]
          },
          "metadata": {
            "tags": []
          },
          "execution_count": 13
        }
      ]
    }
  ]
}