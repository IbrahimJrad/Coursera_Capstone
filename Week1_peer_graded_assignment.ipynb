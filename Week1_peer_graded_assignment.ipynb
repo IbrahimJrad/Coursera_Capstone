{
  "nbformat": 4,
  "nbformat_minor": 0,
  "metadata": {
    "colab": {
      "name": "Week1_peer-graded_assignment.ipynb",
      "provenance": [],
      "collapsed_sections": []
    },
    "kernelspec": {
      "name": "python3",
      "display_name": "Python 3"
    }
  },
  "cells": [
    {
      "cell_type": "markdown",
      "metadata": {
        "id": "06qd95pS1g7e"
      },
      "source": [
        "This notebook will be mainly used for the capstone project on Coursera platform"
      ]
    },
    {
      "cell_type": "code",
      "metadata": {
        "id": "n49CFpSe1b2U"
      },
      "source": [
        "import pandas as pd\n",
        "import numpy as np"
      ],
      "execution_count": 1,
      "outputs": []
    },
    {
      "cell_type": "code",
      "metadata": {
        "colab": {
          "base_uri": "https://localhost:8080/"
        },
        "id": "juAgazW32CVq",
        "outputId": "f2d15fcb-bb7c-4ed3-9bb7-432de16c6a58"
      },
      "source": [
        "print(\"Hello Capstone Project Course!\")"
      ],
      "execution_count": 2,
      "outputs": [
        {
          "output_type": "stream",
          "text": [
            "Hello Capstone Project Course!\n"
          ],
          "name": "stdout"
        }
      ]
    },
    {
      "cell_type": "markdown",
      "metadata": {
        "id": "fqV62qdF1ezZ"
      },
      "source": [
        ""
      ]
    }
  ]
}